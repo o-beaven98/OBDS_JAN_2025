{
 "cells": [
  {
   "cell_type": "code",
   "execution_count": null,
   "id": "077784ae-3290-4e1c-afa1-ece6dde98c12",
   "metadata": {},
   "outputs": [],
   "source": []
  },
  {
   "cell_type": "code",
   "execution_count": 3,
   "id": "9dc0f623-1e8d-4e6f-b2c4-383403e8ba73",
   "metadata": {
    "tags": []
   },
   "outputs": [
    {
     "name": "stdout",
     "output_type": "stream",
     "text": [
      "1\n",
      "2\n",
      "3\n",
      "4\n",
      "5\n",
      "6\n",
      "7\n",
      "8\n",
      "9\n",
      "10\n"
     ]
    }
   ],
   "source": [
    "x = 1\n",
    "while x <11:\n",
    "    print (x)\n",
    "    x=x+1\n",
    "    "
   ]
  },
  {
   "cell_type": "code",
   "execution_count": 4,
   "id": "11870460-05dc-49d2-9c97-1374f5db0d9a",
   "metadata": {
    "tags": []
   },
   "outputs": [
    {
     "name": "stdout",
     "output_type": "stream",
     "text": [
      "-11\n",
      "-10\n",
      "-9\n",
      "-8\n",
      "-7\n",
      "-6\n",
      "-5\n",
      "-4\n",
      "-3\n",
      "-2\n"
     ]
    }
   ],
   "source": [
    "for i in range(-11, -1):\n",
    "    print(i)"
   ]
  },
  {
   "cell_type": "code",
   "execution_count": 5,
   "id": "0cbe9300-6e4f-455f-8b95-21bd8c79f0bc",
   "metadata": {
    "tags": []
   },
   "outputs": [
    {
     "name": "stdout",
     "output_type": "stream",
     "text": [
      "-11\n",
      "-10\n",
      "-9\n",
      "-8\n",
      "-7\n",
      "-6\n",
      "-5\n",
      "-4\n",
      "-3\n",
      "-2\n",
      "-1\n"
     ]
    }
   ],
   "source": [
    "for i in range(-11, 0):\n",
    "    print(i)"
   ]
  },
  {
   "cell_type": "code",
   "execution_count": 6,
   "id": "8debb8e1-cdbd-459a-96db-452d81673230",
   "metadata": {
    "tags": []
   },
   "outputs": [
    {
     "name": "stdout",
     "output_type": "stream",
     "text": [
      "-10\n",
      "-9\n",
      "-8\n",
      "-7\n",
      "-6\n",
      "-5\n",
      "-4\n",
      "-3\n",
      "-2\n",
      "-1\n"
     ]
    }
   ],
   "source": [
    "for i in range(-10, 0):\n",
    "    print(i)"
   ]
  },
  {
   "cell_type": "code",
   "execution_count": 22,
   "id": "5b4eaf3e-097f-4968-9c59-8c38a615ca2c",
   "metadata": {
    "tags": []
   },
   "outputs": [
    {
     "name": "stdout",
     "output_type": "stream",
     "text": [
      "1\n",
      "3\n",
      "6\n",
      "10\n",
      "15\n",
      "21\n",
      "28\n",
      "36\n",
      "45\n",
      "55\n"
     ]
    }
   ],
   "source": [
    "x = range(1,11)\n",
    "result = 0\n",
    "for n in x:\n",
    "    result += n\n",
    "    print(result)"
   ]
  },
  {
   "cell_type": "code",
   "execution_count": 34,
   "id": "f0011337-6d16-4f79-b37a-7956f47f8ea8",
   "metadata": {
    "tags": []
   },
   "outputs": [
    {
     "name": "stdout",
     "output_type": "stream",
     "text": [
      "1\n",
      "2\n",
      "3\n",
      "5\n",
      "7\n",
      "11\n",
      "13\n",
      "17\n",
      "19\n",
      "23\n",
      "29\n",
      "31\n",
      "37\n",
      "41\n",
      "43\n",
      "47\n"
     ]
    }
   ],
   "source": [
    "\n",
    "for i in range(1,51):\n",
    "    is_prime = True\n",
    "    for j in range(2,i):\n",
    "        if i % j == 0:\n",
    "            #print(i, j, i%j)\n",
    "            is_prime = False\n",
    "            break\n",
    "    if is_prime:\n",
    "        print(i)\n",
    "    "
   ]
  },
  {
   "cell_type": "code",
   "execution_count": 39,
   "id": "ae60f491-292b-47b7-a1a8-e04a04dca091",
   "metadata": {},
   "outputs": [
    {
     "name": "stdout",
     "output_type": "stream",
     "text": [
      "a= 3 , b= 7 & c= 10\n"
     ]
    }
   ],
   "source": [
    "def print_params(a, b=5, c=10):\n",
    "    print('a=', a, ', b=', b, '& c=', c)\n",
    "\n",
    "print_params(3,7)"
   ]
  },
  {
   "cell_type": "code",
   "execution_count": 67,
   "id": "980723ae-8c36-4d1a-b21b-42bb94a573ae",
   "metadata": {
    "tags": []
   },
   "outputs": [
    {
     "data": {
      "text/plain": [
       "'TTAGTGCA'"
      ]
     },
     "execution_count": 67,
     "metadata": {},
     "output_type": "execute_result"
    }
   ],
   "source": [
    "def comp_seq(sequence):\n",
    "    complement = ''\n",
    "    for base in sequence:\n",
    "        output = ''\n",
    "        if base == 'A':\n",
    "            output = 'T'\n",
    "        elif base == 'G':\n",
    "            output = 'C'\n",
    "        elif base == 'C':\n",
    "            output = 'G'\n",
    "        elif base == 'T':\n",
    "            output = 'A'\n",
    "        else: \n",
    "            print(\"N\")\n",
    "        complement = complement + output\n",
    "    return complement\n",
    "\n",
    "comp_seq('AATCACGT')\n",
    "\n",
    "def rev_seq(sequence):\n",
    "    reverse = ''\n",
    "    if i"
   ]
  },
  {
   "cell_type": "code",
   "execution_count": 75,
   "id": "6c4fdb85-6592-4b76-b6f1-1c259e10709b",
   "metadata": {
    "tags": []
   },
   "outputs": [
    {
     "data": {
      "text/plain": [
       "'TGCACTAA'"
      ]
     },
     "execution_count": 75,
     "metadata": {},
     "output_type": "execute_result"
    }
   ],
   "source": [
    "def rev_seq(sequence):\n",
    "    reverse = ''\n",
    "    for base in sequence:\n",
    "        reverse = base + reverse\n",
    "    return reverse\n",
    "\n",
    "rev_seq('AATCACGT')"
   ]
  },
  {
   "cell_type": "code",
   "execution_count": 77,
   "id": "684b75a0-31c0-4918-a0e3-8ec96afa646d",
   "metadata": {
    "tags": []
   },
   "outputs": [
    {
     "data": {
      "text/plain": [
       "'ACGTGATT'"
      ]
     },
     "execution_count": 77,
     "metadata": {},
     "output_type": "execute_result"
    }
   ],
   "source": [
    "def reverse_complement(sequence):\n",
    "    return comp_seq(rev_seq(sequence))\n",
    "     \n",
    "\n",
    "reverse_complement('AATCACGT')"
   ]
  },
  {
   "cell_type": "code",
   "execution_count": 80,
   "id": "1359bb5a-a936-4aca-9e8c-3c8fd87854c3",
   "metadata": {
    "tags": []
   },
   "outputs": [
    {
     "name": "stdout",
     "output_type": "stream",
     "text": [
      "['Aleema', 'Muyang', 'Yi', 'Oliver', 'Siniblado', 'Yao', 'Gennaro', 'David', 'Kevin']\n",
      "['Aleema', 'Muyang', 'Yi', 'Oliver', 'Siniblado', 'Yao', 'Gennaro', 'David', 'Kevin']\n",
      "['Aleema', 'Muyang', 'Yi', 'Oliver', 'Siniblado', 'Yao', 'Gennaro']\n"
     ]
    }
   ],
   "source": [
    "participants = ['Aleema', 'Muyang', 'Yi', 'Oliver', 'Siniblado', 'Yao', 'Gennaro']\n",
    "participants_2 = participants\n",
    "participants_3 = participants.copy()\n",
    "participants.append('David') \n",
    "participants.append('Kevin')\n",
    "\n",
    "print(participants)\n",
    "print(participants_2)\n",
    "print(participants_3)"
   ]
  },
  {
   "cell_type": "code",
   "execution_count": 82,
   "id": "a7f7a810-fd1a-4d99-a738-a6c25aa6cb81",
   "metadata": {
    "tags": []
   },
   "outputs": [
    {
     "data": {
      "text/plain": [
       "'Yi'"
      ]
     },
     "execution_count": 82,
     "metadata": {},
     "output_type": "execute_result"
    }
   ],
   "source": [
    "participants[2]"
   ]
  },
  {
   "cell_type": "code",
   "execution_count": 83,
   "id": "86d95d2c-efa9-42d0-9411-59b1a56efdbf",
   "metadata": {
    "tags": []
   },
   "outputs": [
    {
     "data": {
      "text/plain": [
       "'Siniblado'"
      ]
     },
     "execution_count": 83,
     "metadata": {},
     "output_type": "execute_result"
    }
   ],
   "source": [
    "participants[4]"
   ]
  },
  {
   "cell_type": "code",
   "execution_count": 84,
   "id": "db8468eb-c9dc-467f-adea-748f9ff59d3a",
   "metadata": {
    "tags": []
   },
   "outputs": [
    {
     "data": {
      "text/plain": [
       "'Gennaro'"
      ]
     },
     "execution_count": 84,
     "metadata": {},
     "output_type": "execute_result"
    }
   ],
   "source": [
    "participants.sort()\n",
    "participants[2]"
   ]
  },
  {
   "cell_type": "code",
   "execution_count": 85,
   "id": "250fb6ef-14f5-4541-8285-e606db25cd3d",
   "metadata": {
    "tags": []
   },
   "outputs": [
    {
     "data": {
      "text/plain": [
       "'Muyang'"
      ]
     },
     "execution_count": 85,
     "metadata": {},
     "output_type": "execute_result"
    }
   ],
   "source": [
    "participants[4]"
   ]
  },
  {
   "cell_type": "code",
   "execution_count": 86,
   "id": "63b651a3-4eba-4e35-81cf-218bd07b918f",
   "metadata": {
    "tags": []
   },
   "outputs": [
    {
     "name": "stdout",
     "output_type": "stream",
     "text": [
      "['Aleema', 'David', 'Gennaro', 'Kevin', 'Muyang', 'Oliver', 'Siniblado', 'Yao', 'Yi']\n"
     ]
    }
   ],
   "source": [
    "print(participants)"
   ]
  },
  {
   "cell_type": "code",
   "execution_count": 90,
   "id": "e1db5b3b-7e84-47f8-8824-9c78dcb1d920",
   "metadata": {
    "tags": []
   },
   "outputs": [
    {
     "name": "stdout",
     "output_type": "stream",
     "text": [
      "Ge\n"
     ]
    }
   ],
   "source": [
    "print(participants[2][:2])"
   ]
  },
  {
   "cell_type": "code",
   "execution_count": 91,
   "id": "bb7540d5-3a6c-4d5d-b899-b3bc37422351",
   "metadata": {
    "tags": []
   },
   "outputs": [
    {
     "ename": "TypeError",
     "evalue": "unhashable type: 'list'",
     "output_type": "error",
     "traceback": [
      "\u001b[0;31m---------------------------------------------------------------------------\u001b[0m",
      "\u001b[0;31mTypeError\u001b[0m                                 Traceback (most recent call last)",
      "Cell \u001b[0;32mIn[91], line 1\u001b[0m\n\u001b[0;32m----> 1\u001b[0m ab \u001b[38;5;241m=\u001b[39m {participants}\n",
      "\u001b[0;31mTypeError\u001b[0m: unhashable type: 'list'"
     ]
    }
   ],
   "source": [
    "ab = {participants}"
   ]
  },
  {
   "cell_type": "code",
   "execution_count": 92,
   "id": "59a1aad6-6c2b-4983-9455-7a2ba0adc4f5",
   "metadata": {
    "tags": []
   },
   "outputs": [],
   "source": [
    "role = ['trainee', 'trainer']"
   ]
  },
  {
   "cell_type": "code",
   "execution_count": 93,
   "id": "170b6945-8803-4de9-a04e-16fef68f9887",
   "metadata": {
    "tags": []
   },
   "outputs": [
    {
     "name": "stdout",
     "output_type": "stream",
     "text": [
      "['Aleema', 'David', 'Gennaro', 'Kevin', 'Muyang', 'Oliver', 'Siniblado', 'Yao', 'Yi']\n"
     ]
    }
   ],
   "source": [
    "print(participants)"
   ]
  },
  {
   "cell_type": "code",
   "execution_count": 94,
   "id": "e99385ce-bb96-4f16-901b-8be1bfab3972",
   "metadata": {
    "tags": []
   },
   "outputs": [
    {
     "ename": "SyntaxError",
     "evalue": "cannot assign to expression (601928611.py, line 1)",
     "output_type": "error",
     "traceback": [
      "\u001b[0;36m  Cell \u001b[0;32mIn[94], line 1\u001b[0;36m\u001b[0m\n\u001b[0;31m    for David and Kevin in participants\u001b[0m\n\u001b[0m        ^\u001b[0m\n\u001b[0;31mSyntaxError\u001b[0m\u001b[0;31m:\u001b[0m cannot assign to expression\n"
     ]
    }
   ],
   "source": [
    "for \"David' and 'Kevin' in participants\n",
    "    role = 'trainer'"
   ]
  },
  {
   "cell_type": "code",
   "execution_count": 105,
   "id": "6bd783f2-dc84-4577-b543-3ad5e804840d",
   "metadata": {
    "tags": []
   },
   "outputs": [
    {
     "name": "stdout",
     "output_type": "stream",
     "text": [
      "{'Aleema': 'trainee', 'David': 'trainer', 'Gennaro': 'trainee', 'Kevin': 'trainer', 'Muyang': 'trainee', 'Oliver': 'trainee', 'Siniblado': 'trainee', 'Yao': 'trainee', 'Yi': 'trainee'}\n"
     ]
    }
   ],
   "source": [
    "ab = {}\n",
    "trainers = ['Kevin', 'David']\n",
    "for person in participants:\n",
    "    if person in trainers:\n",
    "        ab[person] = 'trainer'\n",
    "    else:\n",
    "        ab[person] = 'trainee'\n",
    "print(ab)"
   ]
  },
  {
   "cell_type": "code",
   "execution_count": 124,
   "id": "d28d44d5-218f-4977-a636-65ddd8b54d11",
   "metadata": {
    "tags": []
   },
   "outputs": [
    {
     "name": "stdout",
     "output_type": "stream",
     "text": [
      "Aleema\n",
      "Gennaro\n",
      "Muyang\n",
      "Oliver\n",
      "Siniblado\n",
      "Yao\n",
      "Yi\n"
     ]
    }
   ],
   "source": [
    "for person, role in ab.items():\n",
    "    if role == \"trainee\":\n",
    "        print(person)"
   ]
  },
  {
   "cell_type": "code",
   "execution_count": 152,
   "id": "5316c4af-05bd-4119-8daa-66042b8d0123",
   "metadata": {
    "tags": []
   },
   "outputs": [
    {
     "data": {
      "text/plain": [
       "['David',\n",
       " 'Yao',\n",
       " 'Muyang',\n",
       " 'Kevin',\n",
       " 'Yi',\n",
       " 'Oliver',\n",
       " 'Aleema',\n",
       " 'Gennaro',\n",
       " 'Siniblado']"
      ]
     },
     "execution_count": 152,
     "metadata": {},
     "output_type": "execute_result"
    }
   ],
   "source": [
    "import random\n",
    "\n",
    "def random_name_generator(participants):\n",
    "    length = len(participants)\n",
    "    random_sequence = []\n",
    "    while len(random_sequence) < length:\n",
    "        choice = random.choice(participants)\n",
    "        if choice in random_sequence:\n",
    "            continue\n",
    "        else:\n",
    "            random_sequence.append(choice)\n",
    "    return random_sequence\n",
    "\n",
    "random_name_generator(participants)"
   ]
  },
  {
   "cell_type": "code",
   "execution_count": 158,
   "id": "122bbff3-046c-42c0-9f82-ef38d1b3f71a",
   "metadata": {
    "tags": []
   },
   "outputs": [
    {
     "name": "stdout",
     "output_type": "stream",
     "text": [
      "['Yao', 'Siniblado', 'David', 'Muyang', 'Kevin', 'Gennaro', 'Aleema', 'Oliver', 'Yi']\n"
     ]
    }
   ],
   "source": [
    "random.shuffle(participants)\n",
    "print(participants)\n"
   ]
  },
  {
   "cell_type": "code",
   "execution_count": null,
   "id": "c44ac72f-0a6a-4fcc-81f7-225f085b9c23",
   "metadata": {},
   "outputs": [],
   "source": []
  }
 ],
 "metadata": {
  "kernelspec": {
   "display_name": "Python 3 (ipykernel)",
   "language": "python",
   "name": "python3"
  },
  "language_info": {
   "codemirror_mode": {
    "name": "ipython",
    "version": 3
   },
   "file_extension": ".py",
   "mimetype": "text/x-python",
   "name": "python",
   "nbconvert_exporter": "python",
   "pygments_lexer": "ipython3",
   "version": "3.11.3"
  }
 },
 "nbformat": 4,
 "nbformat_minor": 5
}
