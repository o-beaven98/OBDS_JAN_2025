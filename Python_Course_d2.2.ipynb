{
 "cells": [
  {
   "cell_type": "code",
   "execution_count": 44,
   "id": "5d6d8467-2368-4d96-a1fd-75ae7098254c",
   "metadata": {
    "tags": []
   },
   "outputs": [],
   "source": [
    "#Write a python script to convert a SAM file to a BED file (sam_to_bed.py)\n",
    "#! /usr/bin/env python\n",
    "\n",
    "import argparse        \n",
    "parser = argparse.ArgumentParser()\n",
    "parser.add_argument('-o', dest='outfile', defuat='out.bed',\n",
    "                    help='output file(default out.bed)')\n",
    "parser.add_argument('-i', '--input', dest='infile', \n",
    "                    help='Input file name (required)')\n",
    "args = parser.parse_args()\n",
    "#the function will be called sam_to_bed.py\n",
    "\n",
    "#convert the SAM to a BAM file by pulling in columns from the SAM\n",
    "#to the BAM. Take each column and put into a new table called BAM.\n",
    "#args.infile = '/project/shared/python/1_python_programming/cd4_subset.sam'\n",
    "\n",
    "#input the sam file\n",
    "with open(args.infile, 'r')as sam, open(args.outfile,'w') as bed:\n",
    "    for line in sam:\n",
    "        if line.startswith('@'):\n",
    "            continue\n",
    "        columns = line.split('\\t') \n",
    "        if columns[2] == '*':\n",
    "            continue\n",
    "        name = columns[0]\n",
    "        chrom = columns[2]\n",
    "        start = int(columns[3])\n",
    "        end = start+len(columns[9])\n",
    "        quality = columns[4]\n",
    "        bed.write(f'{chrom}\\t{start}\\t{end}\\t{quality}\\n')\n",
    "\n",
    "\n",
    "\n"
   ]
  },
  {
   "cell_type": "code",
   "execution_count": 46,
   "id": "0e7b4769-7e98-4e5d-a9ab-6f76cfb803b4",
   "metadata": {},
   "outputs": [],
   "source": [
    "#Write a python script to convert a SAM file to a BED file (sam_to_bed.py)\n",
    "#! /usr/bin/env python\n",
    "\n",
    "#the function will be called sam_to_bed.py\n",
    "\n",
    "#convert the SAM to a BAM file by pulling in columns from the SAM\n",
    "#to the BAM. Take each column and put into a new table called BAM.\n",
    "\n",
    "#input the sam file\n",
    "def sam_to_bam(filepath):\n",
    "    with open(filepath, 'r')as sam, open('BAM_conversion2.txt','w')as bed:\n",
    "        for line in sam:\n",
    "            if line.startswith('@'):\n",
    "                continue\n",
    "            columns = line.split('\\t') \n",
    "            if columns[2] == '*':\n",
    "                continue\n",
    "            name = columns[0]\n",
    "            chrom = columns[2]\n",
    "            start = int(columns[3])\n",
    "            end = start+len(columns[9])\n",
    "            quality = columns[4]\n",
    "            bed.write(f'{chrom}\\t{start}\\t{end}\\t{quality}\\n')\n",
    "\n",
    "sam_to_bam('/project/shared/python/1_python_programming/cd4_subset.sam')\n",
    "            \n",
    "import argparse        \n",
    "parser = argparse.ArgumentParser()\n",
    "parser.add_argument('o', dest='outfile', defualt='out.bed',\n",
    "                    help='output file(default out.bed)')\n",
    "parser.add_argument('i', '--input', dest='infile', \n",
    "                    help='Input file name (required)')\n",
    "args = parser.parse_args()\n",
    "\n"
   ]
  },
  {
   "cell_type": "code",
   "execution_count": null,
   "id": "612affc9-a2ae-445a-8613-3fa490e63d11",
   "metadata": {},
   "outputs": [],
   "source": [
    "with open(args.infile, 'r')as sam, gzip.open(args.outfile,'wt') as bed:\n",
    "    #remove the lines that start with @ and continue until there is no @\n",
    "    for line in sam:\n",
    "        if line.startswith('@'):\n",
    "            continue\n",
    "      #SAM files are a string, so you need to split the string into a table\n",
    "    #the '\\t' function will separate according to a tab spacer\n",
    "        columns = line.split('\\t') \n",
    "        #if the read is unmapped, chr will be a •, remove these by ignoring\n",
    "        if columns[2] == '*':\n",
    "            continue\n",
    "        #add in a spacer defined by argparse to add a defined number of bases to the end of sequence\n",
    "        for columns[9](length = len(TTTT)[TTTT,fill])\n",
    "        #specify which columns contain the information I want\n",
    "        name = columns[0]\n",
    "        chrom = columns[2]\n",
    "        start = int(columns[3])\n",
    "        end = start+len(columns[9])\n",
    "        quality = columns[4]\n",
    "        #write to a bed file, specifying which columns in the table I want, \n",
    "        #n specifies to copy this for n\n",
    "        bed.write(f'{chrom}\\t{start}\\t{end}\\t{quality}\\n')"
   ]
  },
  {
   "cell_type": "code",
   "execution_count": 58,
   "id": "da759c3e-c4f7-458d-accb-17ac3d5eb8cd",
   "metadata": {
    "tags": []
   },
   "outputs": [
    {
     "ename": "SyntaxError",
     "evalue": "invalid syntax (534065463.py, line 15)",
     "output_type": "error",
     "traceback": [
      "\u001b[0;36m  Cell \u001b[0;32mIn[58], line 15\u001b[0;36m\u001b[0m\n\u001b[0;31m    columns[9] = columns[9].centre(xl[, x])\u001b[0m\n\u001b[0m                                      ^\u001b[0m\n\u001b[0;31mSyntaxError\u001b[0m\u001b[0;31m:\u001b[0m invalid syntax\n"
     ]
    }
   ],
   "source": [
    "\n",
    "with open('/project/shared/python/1_python_programming/cd4_subset.sam', 'r')as sam, open('BAM_conversion3.txt','w') as bed:\n",
    "    x = pad   \n",
    "#remove the lines that start with @ and continue until there is no @\n",
    "    for line in sam:\n",
    "        if line.startswith('@'):\n",
    "            continue\n",
    "      #SAM files are a string, so you need to split the string into a table\n",
    "    #the '\\t' function will separate according to a tab spacer\n",
    "        columns = line.split('\\t') \n",
    "        #if the read is unmapped, chr will be a •, remove these by ignoring\n",
    "        if columns[2] == '*':\n",
    "            continue\n",
    "        #add in a spacer defined by argparse to add a defined number of bases to the end of sequence\n",
    "        \n",
    "        print(columns[9])\n",
    "        #specify which columns contain the information I want\n",
    "        name = columns[0]\n",
    "        chrom = columns[2]\n",
    "        start = int(columns[3])-x\n",
    "        end = start+len(columns[9])+x\n",
    "        quality = columns[4]\n",
    "        #write to a bed file, specifying which columns in the table I want, \n",
    "        #n specifies to copy this for n\n",
    "        bed.write(f'{chrom}\\t{start}\\t{end}\\t{quality}\\n')"
   ]
  }
 ],
 "metadata": {
  "kernelspec": {
   "display_name": "Python 3 (ipykernel)",
   "language": "python",
   "name": "python3"
  },
  "language_info": {
   "codemirror_mode": {
    "name": "ipython",
    "version": 3
   },
   "file_extension": ".py",
   "mimetype": "text/x-python",
   "name": "python",
   "nbconvert_exporter": "python",
   "pygments_lexer": "ipython3",
   "version": "3.11.3"
  }
 },
 "nbformat": 4,
 "nbformat_minor": 5
}
