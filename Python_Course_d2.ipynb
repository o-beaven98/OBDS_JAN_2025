{
 "cells": [
  {
   "cell_type": "code",
   "execution_count": 48,
   "id": "60f2ea7d-7426-4b79-9fe0-c86e89b884f8",
   "metadata": {
    "tags": []
   },
   "outputs": [
    {
     "name": "stdout",
     "output_type": "stream",
     "text": [
      "3209\n"
     ]
    },
    {
     "data": {
      "text/plain": [
       "65.6319290465632"
      ]
     },
     "execution_count": 48,
     "metadata": {},
     "output_type": "execute_result"
    }
   ],
   "source": [
    "#Exerise 1\n",
    "#Compute the GC content of a sequence\n",
    "#Step one - read in the sequence\n",
    "#Step two - define the length of the sequence\n",
    "#Step three - read, if base in sequence = G or C, x=x+1\n",
    "#Step four - calculate the GC content by x/length*100\n",
    "#Return this output\n",
    "\n",
    "def gc_content(sequence):\n",
    "    gc=0\n",
    "    at=0\n",
    "    sequence_length = len(sequence)\n",
    "    print(sequence_length)\n",
    "    for base in sequence:\n",
    "        if base == 'G':\n",
    "            gc += 1\n",
    "        elif base == 'C':\n",
    "            gc += 1\n",
    "        elif base == 'A':\n",
    "            at += 1\n",
    "        elif base == 'T':\n",
    "            at += 1\n",
    "       # else:\n",
    "       #     gc += 0\n",
    "    gc_content = gc/(gc+at)*100\n",
    "    return gc_content\n",
    "\n",
    "gc_content('''CGGGGCTAGGGGCGGGGCTCCGTGGACCAGGGTCCAGCCCCAAGCGGGGCGCGATCCTGC\n",
    "CCGGTCGCGCCGACCCCCGGGGTCCTCATATTGTCTGTGGCTTAAGAGGGGAGTCGTCAC\n",
    "AGGCGTCAAGTCTTCTTTCTAAAGCCGGGGACCTGGGGAGGAGGTGGGAGTTTACGGGAG\n",
    "GAAGGGCCACGGAGATGGGTCGCTTCTCCTGGAGCTAGAGCTGCGGGCTGGGGTCTCCAG\n",
    "GGTTCGGCCCGGGGAGCCGACCCTGGTCGGCCGTCGGGGCTCTGCTCGGCCCTCCTGAAA\n",
    "CCTCCGCCTCCTCCAGCAGGGGGCGGGCCGGGGCCGCGTCTCGGGGGGAAGGCGATCAGG\n",
    "TCGCCCCCTCCTCCGATTCCCCCGCCTTCCAGGACAGCCTCCAGCCCAGAGGGGCGGTCC\n",
    "GGGGGCGGGGTCGCACCGCCCCCTCTCGCTCCCAATCCCGGGGCGGCCGGGCGGGGGTGG\n",
    "GCAGGGGGCGTGAGGCCGCCCCTGCGTCCCGGGGGCCCCCCGAAAACGCGCTCCGGGTGC\n",
    "CCGGTCCCTCCGCTGCGCCCTGCCGCCGTCCTCCCGGGGGTCTCGGGCGGCCGCGGCCGT\n",
    "GTCCTTCGCGTCCCGGCGGCGCGGCGGGAGGGGCCGGCGTGACGCAGCGGTTGCTACGGG\n",
    "CCGCCCTTATAAATAACCGGGCTCAGGAGAAACTTTAGCGAGTCAGAGCCGCGCACGGGA\n",
    "CTGGGAAGGGGACCCACCCGAGGGTCCAGCCACCAGCCCCCTCACTAATAGCGGCCACCC\n",
    "CGGCAGCGGCGGCAGCAGCAGCAGCGACGCAGCGGCGACAGCTCAGAGCAGGGAGGCCGC\n",
    "GCCACCTGCGGGCCGGCCGGAGCGGGCAGCCCCAGGCCCCCTCCCCGGGCACCCGCGTTC\n",
    "ATGCAACGCCTGGTGGCCTGGGACCCAGCATGTCTCCCCCTGCCGCCGCCGCCGCCTGCC\n",
    "TTTAAATCCATGGAAGTGGCCAACTTCTACTACGAGGCGGACTGCTTGGCTGCTGCGTAC\n",
    "GGCGGCAAGGCGGCCCCCGCGGCGCCCCCCGCGGCCAGACCCGGGCCGCGCCCCCCCGCC\n",
    "GGCGAGCTGGGCAGCATCGGCGACCACGAGCGCGCCATCGACTTCAGCCCGTACCTGGAG\n",
    "CCGCTGGGCGCGCCGCAGGCCCCGGCGCCCGCCACGGCCACGGACACCTTCGAGGCGGCT\n",
    "CCGCCCGCGCCCGCCCCCGCGCCCGCCTCCTCCGGGCAGCACCACGACTTCCTCTCCGAC\n",
    "CTCTTCTCCGACGACTACGGGGGCAAGAACTGCAAGAAGCCGGCCGAGTACGGCTACGTG\n",
    "AGCCTGGGGCGCCTGGGGGCCGCCAAGGGCGCGCTGCACCCCGGCTGCTTCGCGCCCCTG\n",
    "CACCCACCGCCCCCGCCGCCGCCGCCGCCCGCCGAGCTCAAGGCGGAGCCGGGCTTCGAG\n",
    "CCCGCGGACTGCAAGCGGAAGGAGGAGGCCGGGGCGCCGGGCGGCGGCGCAGGCATGGCG\n",
    "GCGGGCTTCCCGTACGCGCTGCGCGCTTACCTCGGCTACCAGGCGGTGCCGAGCGGCAGC\n",
    "AGCGGGAGCCTCTCCACGTCCTCCTCGTCCAGCCCGCCCGGCACGCCGAGCCCCGCTGAC\n",
    "GCCAAGGCGCCCCCGACCGCCTGCTACGCGGGGGCCGCGCCGGCGCCCTCGCAGGTCAAG\n",
    "AGCAAGGCCAAGAAGACCGTGGACAAGCACAGCGACGAGTACAAGATCCGGCGCGAGCGC\n",
    "AACAACATCGCCGTGCGCAAGAGCCGCGACAAGGCCAAGATGCGCAACCTGGAGACGCAG\n",
    "CACAAGGTCCTGGAGCTCACGGCCGAGAACGAGCGGCTGCAGAAGAAGGTGGAGCAGCTG\n",
    "TCGCGCGAGCTCAGCACCCTGCGGAACTTGTTCAAGCAGCTGCCCGAGCCCCTGCTCGCC\n",
    "TCCTCCGGCCACTGCTAGCGCGGCCCCCGCGCGCGTCCCCCTGCCGGCCGGGGCTGAGAC\n",
    "TCCGGGGAGCGCCCGCGCCCGCGCCCTCGCCCCCGCCCCCGGCGGCGCCGGCAAAACTTT\n",
    "GGCACTGGGGCACTTGGCAGCGCGGGGAGCCCGTCGGTAATTTTAATATTTTATTATATA\n",
    "TATATATCTATATTTTTGTCCAAACCAACCGCACATGCAGATGGGGCTCCCGCCCGTGGT\n",
    "GTTATTTAAAGAAGAAACGTCTATGTGTACAGATGAATGATAAACTCTCTGCTTCTCCCT\n",
    "CTGCCCCTCTCCAGGCGCCGGCGGGCGGGCCGGTTTCGAAGTTGATGCAATCGGTTTAAA\n",
    "CATGGCTGAACGCGTGTGTACACGGGACTGACGCAACCCACGTGTAACTGTCAGCCGGGC\n",
    "CCTGAGTAATCGCTTAAAGATGTTCCTACGGGCTTGTTGCTGTTGATGTTTTGTTTTGTT\n",
    "TTGTTTTTTGGTCTTTTTTTGTATTATAAAAAATAATCTATTTCTATGAGAAAAGAGGCG\n",
    "TCTGTATATTTTGGGAATCTTTTCCGTTTCAAGCATTAAGAACACTTTTAATAAACTTTT\n",
    "TTTTGAGAATGGTTACAAAGCCTTTTGGGGGCAGTAATTGGCTTTTGTTTTTTATTTTTT\n",
    "TACTTTATTTTGGATTTGTAGGATTTTGTTTTTGCGTTTCTGGTGTGTAGGGGGTTGTGT\n",
    "GTGGGGGGCTGCTGTTATTTTTGGAGGTTTTGGTGGTTGGGTGGGGGTGTTGCAGCTGGT\n",
    "TTTTCTGCCTCCTCTGCTACTCCCCCTCCCACACACACAGGGTCTGCTTGAGATGGGGTT\n",
    "CCAGCCCCGGGGGAAAGGGGAGAAGAGTAATGGGTCAGGCATTCAGGCTGACTCAGAGCC\n",
    "CCTAGGCGCCGGGACGGGTGGCTGGGAACCCTGCTTGAGAAGAGATTCCGGAGCCTCTGG\n",
    "CTGGTCCCGAGTGTCAGGCTTGGGTTTGGAAGGGCTGGGAGGTCTGTGACCCCTGCCCTG\n",
    "TGTTTGGGGACTAGGTAGGCAGGCCTGTGACTGTAGGAGGAGGGGGTTCAGGTCTTGGTC\n",
    "CTGCTGAGCCCGAGTCAGGGCAGATGCTTTTGGTCAGTGTAGTGGGGTGGGTTGTTTAAA\n",
    "ACACAGTTTGTGTATACATGTGTATTTTAAAGAGGGGAGCCTGGGTGTGTGGGCGAGTCT\n",
    "GTGTTTGTGTGTCCCTGGCCAGCAGGAGGGGAGAGGC''')"
   ]
  },
  {
   "cell_type": "code",
   "execution_count": 120,
   "id": "71b89508-200b-42d9-ba4c-6b92373ade59",
   "metadata": {
    "tags": []
   },
   "outputs": [
    {
     "data": {
      "text/plain": [
       "([[13, 17], [22, 26]], 2)"
      ]
     },
     "execution_count": 120,
     "metadata": {},
     "output_type": "execute_result"
    }
   ],
   "source": [
    "#Exercise 2\n",
    "def motif_search(sequence, motif):\n",
    "#input the sequences    \n",
    "#set up the lists\n",
    "    first_position = []\n",
    "    last_position = []\n",
    "    positions = []\n",
    "    hits = []\n",
    "#set up the function that iterates over the length of the sequence\n",
    "    for i in range(len(sequence) - len(motif) +1): \n",
    "    #if the sequence at position i that is the length of the motif is equal to the \n",
    "    #value of the motif, add this position to the list\n",
    "        if sequence[i:i+len(motif)] == motif:\n",
    "            hit = [i,i+len(motif)]\n",
    "            hits.append(hit)\n",
    "    return(hits, len(hits))\n",
    "\n",
    "motif_search('GCATGCTTACATCTATAATCGATATAAC', 'TATA')"
   ]
  },
  {
   "cell_type": "code",
   "execution_count": 187,
   "id": "4d6885ee-a444-4879-82b8-5d681874eb3b",
   "metadata": {
    "tags": []
   },
   "outputs": [
    {
     "data": {
      "text/plain": [
       "7"
      ]
     },
     "execution_count": 187,
     "metadata": {},
     "output_type": "execute_result"
    }
   ],
   "source": [
    "#Exercise 3\n",
    "#Write algorithm calculating number of base differences between two sequences\n",
    "\n",
    "#sequence 1 = GAGCCTACTAACGGGAT\n",
    "#sequence 2 = CATCGTAATGACGGCCT\n",
    "\n",
    "#if position i in sequence 1 = position i in sequence 2, then continue,\n",
    "#if position i in sequence 1 != position i in sequence 2, then x=x+1\n",
    "\n",
    "def hamming(sequence_1, sequence_2):\n",
    "    hamming_distance = 0\n",
    "    for i in range(len(sequence_1)):\n",
    "        if sequence_1[i] != sequence_2[i]:\n",
    "            hamming_distance += 1\n",
    "    return(hamming_distance)\n",
    "hamming('GAGCCTACTAACGGGAT','CATCGTAATGACGGCCT')"
   ]
  },
  {
   "cell_type": "code",
   "execution_count": 214,
   "id": "6f661335-6749-4fca-acc5-3baa91566ea9",
   "metadata": {
    "tags": []
   },
   "outputs": [
    {
     "ename": "SyntaxError",
     "evalue": "invalid syntax. Maybe you meant '==' or ':=' instead of '='? (1197606361.py, line 34)",
     "output_type": "error",
     "traceback": [
      "\u001b[0;36m  Cell \u001b[0;32mIn[214], line 34\u001b[0;36m\u001b[0m\n\u001b[0;31m    if value = max(table)\u001b[0m\n\u001b[0m       ^\u001b[0m\n\u001b[0;31mSyntaxError\u001b[0m\u001b[0;31m:\u001b[0m invalid syntax. Maybe you meant '==' or ':=' instead of '='?\n"
     ]
    }
   ],
   "source": [
    "#Exercise 4\n",
    "#Write an algorithm that finds the consensus sequence between a set of sequences\n",
    "#with the same length\n",
    "#input, list of strings at the same length (use a table)\n",
    "#at each position across the sequences, count the number of each base\n",
    "#define the consensus sequence by the base with the greatest frequency at each position\n",
    "\n",
    "#1 - produce a list containing the sequences\n",
    "sequences = ['GATATGGG', 'GATCTGGT', 'CATATGAT', 'CTTCCGGC', 'CATGAGGC', 'CATCTCGC', 'CAAATGGC', 'CATATGGC']\n",
    "#2 - ensure they are the same length\n",
    "lengths = [len(i) for i in sequences]\n",
    "print(lengths)\n",
    "if len(set(lengths)) != 1:\n",
    "    BREAK \n",
    "    print(\"FAIL, sequences not the same length\")\n",
    "else:\n",
    "        print(\"Sequences are the same length\")\n",
    "        \n",
    "table = []\n",
    "for i in range(len(sequences[0])):\n",
    "    #produce a directory where the counts for the bases can go to\n",
    "    bases = {\"A\":0, \"T\":0, \"G\":0, \"C\":0}\n",
    "    #iterate over each sequence and add the count of each base to the dictionary\n",
    "    for seq in sequences:\n",
    "        base = seq[i]\n",
    "        bases[base] += 1\n",
    "    table.append(bases)\n",
    "print(table)\n",
    "\n",
    "consensus = ''\n",
    "max_base = ''\n",
    "#define a new sequence\n",
    "for base,value in range(len(table)):\n",
    "    if value = max(table)\n",
    "        max_base = base\n",
    "    consensus = consensus + max_base\n",
    "    print(max_base)\n",
    "    print(consensus)\n",
    "#the consensus is the max base at each position in the list\n",
    "#iterate over each seq in the dictionary\n",
    "#extract the max base at each level in the table\n",
    "#add the value of the max base to consensus\n",
    "#return consensus"
   ]
  },
  {
   "cell_type": "code",
   "execution_count": null,
   "id": "e872e68c-1bcb-4dfb-82bc-dae34611ceb9",
   "metadata": {},
   "outputs": [],
   "source": []
  }
 ],
 "metadata": {
  "kernelspec": {
   "display_name": "Python 3 (ipykernel)",
   "language": "python",
   "name": "python3"
  },
  "language_info": {
   "codemirror_mode": {
    "name": "ipython",
    "version": 3
   },
   "file_extension": ".py",
   "mimetype": "text/x-python",
   "name": "python",
   "nbconvert_exporter": "python",
   "pygments_lexer": "ipython3",
   "version": "3.11.3"
  }
 },
 "nbformat": 4,
 "nbformat_minor": 5
}
